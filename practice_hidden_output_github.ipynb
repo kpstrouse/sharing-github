{
 "cells": [
  {
   "cell_type": "code",
   "execution_count": null,
   "metadata": {},
   "outputs": [],
   "source": [
    "import numpy as np\n",
    "import pandas as pd\n",
    "import pylab as plt\n",
    "import matplotlib\n",
    "\n",
    "%matplotlib inline\n",
    "%config InlineBackend.figure_format = 'retina' ##better figure resolution"
   ]
  },
  {
   "cell_type": "code",
   "execution_count": null,
   "metadata": {
    "scrolled": true
   },
   "outputs": [],
   "source": [
    "cleaned_data_location = 'data/gapminder_cleaned.csv'\n",
    "df = pd.read_csv(cleaned_data_location)\n",
    "df.head()\n",
    "# did not work :("
   ]
  },
  {
   "cell_type": "code",
   "execution_count": null,
   "metadata": {},
   "outputs": [],
   "source": [
    "#try defensive coding now\n",
    "cleaned_data_location = 'data/gapminder_cleaned.csv'\n",
    "\n",
    "try:\n",
    "    df = pd.read_csv(cleaned_data_location)\n",
    "    \n",
    "except FileNotFoundError:\n",
    "    print(\"Could not find data file, chech path? You tried\", cleaned_data_location)\n"
   ]
  },
  {
   "cell_type": "code",
   "execution_count": null,
   "metadata": {},
   "outputs": [],
   "source": [
    "VERBOSE = True \n",
    "\n",
    "#now try returning to parent directory first\n",
    "cleaned_data_location = '../data/gapminder_cleaned.csv'\n",
    "\n",
    "try:\n",
    "    df = pd.read_csv(cleaned_data_location)\n",
    "    if VERBOSE:\n",
    "        print(df.head())\n",
    "    \n",
    "except FileNotFoundError:\n",
    "    print(\"Could not find data file, chech path? You tried\", cleaned_data_location)\n"
   ]
  },
  {
   "cell_type": "code",
   "execution_count": null,
   "metadata": {},
   "outputs": [],
   "source": [
    "years = df['year'].unique()\n",
    "years.sort()\n",
    "assert years[-1] == 2007, 'Wrong years'"
   ]
  },
  {
   "cell_type": "code",
   "execution_count": null,
   "metadata": {},
   "outputs": [],
   "source": [
    "#calculate mean life expectancy for continent asia for each year\n",
    "category = 'lifeexp'\n",
    "continent = 'asia'\n",
    "\n",
    "mask_continent = df['continent'] == continent\n",
    "df_continent = df[mask_continent]\n",
    "\n",
    "years = df_continent['year'].unique()\n",
    "summary = []\n",
    "\n",
    "for year in years:\n",
    "    mask_year = df_continent['year'] == year\n",
    "    df_year = df_continent[mask_year]\n",
    "    value = np.mean(df_year[category])\n",
    "    summary.append((continent, year, value))\n",
    "\n",
    "assert len(summary) == 12\n",
    "\n",
    "#turn the summary into a data fram so we can easily visualize it\n",
    "result_df = pd.DataFrame(summary, columns = ['continent', 'year', category])\n",
    "result_df"
   ]
  },
  {
   "cell_type": "code",
   "execution_count": null,
   "metadata": {},
   "outputs": [],
   "source": [
    "result_df.plot.line('year', category, label='life expectancy')\n",
    "plt.savefig('fig.png', dpi = 250) ##better resolution"
   ]
  },
  {
   "cell_type": "code",
   "execution_count": null,
   "metadata": {},
   "outputs": [],
   "source": [
    "def calculate_mean_over_time(data, category, continent, verbose=False):\n",
    "    #calculate mean category for continent by all years\n",
    "    \n",
    "    #create a mask that selects the continent of choice\n",
    "    mask_continent = data['continent'] == continent\n",
    "    data_continent = data[mask_continent]\n",
    "\n",
    "    #loop over years and calculate the statistic of interest\n",
    "    years = data_continent['year'].unique()\n",
    "    summary = []\n",
    "    for year in years:\n",
    "        if verbose:\n",
    "            print(year)\n",
    "        mask_year = data_continent['year'] == year\n",
    "        data_year = data_continent[mask_year]\n",
    "        value = np.mean(data_year[category])\n",
    "        summary.append((continent, year, value))\n",
    "\n",
    "    #There should be 12 records for each continent\n",
    "    assert len(summary) == 12\n",
    "\n",
    "    #turn the summary into a data fram so we can easily visualize it\n",
    "    result_data = pd.DataFrame(summary, columns = ['continent', 'year', category])\n",
    "    return result_data"
   ]
  },
  {
   "cell_type": "code",
   "execution_count": null,
   "metadata": {},
   "outputs": [],
   "source": [
    "calculate_mean_over_time(df, 'lifeexp', 'asia')"
   ]
  },
  {
   "cell_type": "code",
   "execution_count": null,
   "metadata": {},
   "outputs": [],
   "source": [
    "def calculate_stat_over_time(data, category, continent, func):\n",
    "    \"\"\"Calculate any stat of ny category for a continent by all years\n",
    "    \n",
    "    Args:\n",
    "        data: a data frame\n",
    "        category: one of the column headers of the data frame (e.g.'lifeexp')\n",
    "        continent: possible value of continent column in that data frame (e.g. 'asia')\n",
    "        func: the function to apply to data values (e.g. np.mean)\n",
    "        \n",
    "    Returns:\n",
    "        a summary table of value per year\n",
    "    \"\"\"\n",
    "    \n",
    "    #validate arguments\n",
    "    assert category in data.columns.values, 'Category must be one of the data frame columns'\n",
    "    assert 'continent' in data.columns.values, 'Continent column not found in data frame'\n",
    "    assert continent in data['continent'].unique(), 'Continent value not found in data frame'\n",
    "    \n",
    "    #create a mask that selects the continent of choice\n",
    "    mask_continent = data['continent'] == continent\n",
    "    data_continent = data[mask_continent]\n",
    "\n",
    "    #loop over years and calculate the statistic of interest\n",
    "    years = data_continent['year'].unique()\n",
    "    summary = []\n",
    "    for year in years:\n",
    "        mask_year = data_continent['year'] == year\n",
    "        data_year = data_continent[mask_year]\n",
    "        value = func(data_year[category]) ##function pass in here; ex. np.mean\n",
    "        #value = eval('np.' + func + '(data_year[category])') \n",
    "            #^more user friendly but only for numpy, argument is 'mean', 'median', etc\n",
    "        summary.append((continent, year, value))\n",
    "\n",
    "    #There should be 12 records for each continent\n",
    "    assert len(summary) == 12\n",
    "\n",
    "    #turn the summary into a data fram so we can easily visualize it\n",
    "    result_data = pd.DataFrame(summary, columns = ['continent', 'year', category])\n",
    "    return result_data\n",
    "\n",
    "    "
   ]
  },
  {
   "cell_type": "code",
   "execution_count": null,
   "metadata": {},
   "outputs": [],
   "source": [
    "calculate_stat_over_time(df, 'lifeexp', 'asia', np.mean)"
   ]
  },
  {
   "cell_type": "code",
   "execution_count": null,
   "metadata": {},
   "outputs": [],
   "source": [
    "help(calculate_stat_over_time)"
   ]
  },
  {
   "cell_type": "code",
   "execution_count": null,
   "metadata": {},
   "outputs": [],
   "source": [
    "#plot life expectancy over time for all continents\n",
    "continents = df['continent'].unique()\n",
    "category = 'lifeexp'\n",
    "fig, ax = plt.subplots()\n",
    "\n",
    "for continent in continents:\n",
    "    func = np.mean\n",
    "    output = calculate_stat_over_time(df, category, continent, func)\n",
    "    output.plot.line('year',category , ax=ax, label=continent)"
   ]
  },
  {
   "cell_type": "code",
   "execution_count": null,
   "metadata": {},
   "outputs": [],
   "source": []
  }
 ],
 "metadata": {
  "kernelspec": {
   "display_name": "Python 3",
   "language": "python",
   "name": "python3"
  },
  "language_info": {
   "codemirror_mode": {
    "name": "ipython",
    "version": 3
   },
   "file_extension": ".py",
   "mimetype": "text/x-python",
   "name": "python",
   "nbconvert_exporter": "python",
   "pygments_lexer": "ipython3",
   "version": "3.6.5"
  }
 },
 "nbformat": 4,
 "nbformat_minor": 2
}
